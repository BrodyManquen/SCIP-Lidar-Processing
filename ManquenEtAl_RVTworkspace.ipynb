{
 "cells": [
  {
   "cell_type": "code",
   "execution_count": 4,
   "id": "c093a8d9",
   "metadata": {},
   "outputs": [],
   "source": [
    "import arcpy\n",
    "from arcpy import env\n",
    "import os\n",
    "import ManquenEtAl_RVTfunctions as mfRVT "
   ]
  },
  {
   "cell_type": "code",
   "execution_count": null,
   "id": "16fe2a46",
   "metadata": {},
   "outputs": [],
   "source": [
    "'''\n",
    "This workspace was used to create visualizations for the SCIP 2023 and 2024 field seasons.\n",
    "It uses arcpy, os, and a custom package of Relief Visualization Toolbox functions (mfRVT) to do so.\n",
    "'''"
   ]
  },
  {
   "cell_type": "code",
   "execution_count": 5,
   "id": "d4101bb5",
   "metadata": {},
   "outputs": [],
   "source": [
    "# set directory\n",
    "path = r\"C:\\Users\\bmanq\\Box\\Research\\LidarProcessing\\RVT\""
   ]
  },
  {
   "cell_type": "code",
   "execution_count": 6,
   "id": "dac16f61",
   "metadata": {},
   "outputs": [],
   "source": [
    "# establish arcpy environment\n",
    "os.chdir(path)\n",
    "env.workspace = path\n",
    "env.overwriteOutput = True"
   ]
  },
  {
   "cell_type": "markdown",
   "id": "571e7384",
   "metadata": {},
   "source": [
    "<h4>Relief Visualization Toolbox Python Folder</h4>"
   ]
  },
  {
   "cell_type": "markdown",
   "id": "ff451465",
   "metadata": {},
   "source": [
    "This script requires the \"rvt\" **folder** from the Relief Visualization Toolbox found here: https://github.com/EarthObservation/RVT_py\n",
    "\n",
    "The folder must be in the same directory as this .ipynb file to function properly."
   ]
  },
  {
   "cell_type": "code",
   "execution_count": 7,
   "id": "49a09b2d",
   "metadata": {},
   "outputs": [
    {
     "data": {
      "text/plain": [
       "'C:\\\\Users\\\\bmanq\\\\Box\\\\Research\\\\LidarProcessing\\\\RVT\\\\Outputs'"
      ]
     },
     "execution_count": 7,
     "metadata": {},
     "output_type": "execute_result"
    }
   ],
   "source": [
    "#Set the Outputs folder path for visualization export\n",
    "outPath = mfRVT.setOutputs() #uses a custom function\n",
    "outPath"
   ]
  },
  {
   "cell_type": "code",
   "execution_count": 8,
   "id": "85a4984d",
   "metadata": {},
   "outputs": [],
   "source": [
    "#Set the folder containing the Digital Elevation Models (DEMs) required for visualization\n",
    "DEMfolder = mfRVT.findDEMfolder()"
   ]
  },
  {
   "cell_type": "code",
   "execution_count": 9,
   "id": "61ce2d90",
   "metadata": {},
   "outputs": [
    {
     "data": {
      "text/plain": [
       "'C:\\\\Users\\\\bmanq\\\\Box\\\\Research\\\\LidarProcessing\\\\RVT\\\\DEM'"
      ]
     },
     "execution_count": 9,
     "metadata": {},
     "output_type": "execute_result"
    }
   ],
   "source": [
    "os.path.abspath(DEMfolder)"
   ]
  },
  {
   "cell_type": "code",
   "execution_count": 10,
   "id": "e4f419d3",
   "metadata": {},
   "outputs": [
    {
     "data": {
      "text/plain": [
       "['F-KG_DSM.tif', 'Sa-PA_DSM.tif']"
      ]
     },
     "execution_count": 10,
     "metadata": {},
     "output_type": "execute_result"
    }
   ],
   "source": [
    "#Create a list of DEMs in the DEM folder\n",
    "demList = mfRVT.findDEMs(DEMfolder)\n",
    "demList"
   ]
  },
  {
   "cell_type": "code",
   "execution_count": 11,
   "id": "36242e3f",
   "metadata": {},
   "outputs": [
    {
     "name": "stderr",
     "output_type": "stream",
     "text": [
      "C:\\Program Files\\ArcGIS\\Pro\\bin\\Python\\envs\\arcgispro-py3\\lib\\site-packages\\osgeo\\gdal.py:287: FutureWarning: Neither gdal.UseExceptions() nor gdal.DontUseExceptions() has been explicitly called. In GDAL 4.0, exceptions will be enabled by default.\n",
      "  warnings.warn(\n"
     ]
    },
    {
     "data": {
      "text/plain": [
       "[{'array': array([[-9999., -9999., -9999., ..., -9999., -9999., -9999.],\n",
       "         [-9999., -9999., -9999., ..., -9999., -9999., -9999.],\n",
       "         [-9999., -9999., -9999., ..., -9999., -9999., -9999.],\n",
       "         ...,\n",
       "         [-9999., -9999., -9999., ..., -9999., -9999., -9999.],\n",
       "         [-9999., -9999., -9999., ..., -9999., -9999., -9999.],\n",
       "         [-9999., -9999., -9999., ..., -9999., -9999., -9999.]],\n",
       "        dtype=float32),\n",
       "  'resolution': (0.25, 0.25),\n",
       "  'no_data': -9999.0,\n",
       "  'FileName': 'F-KG_DSM.tif'},\n",
       " {'array': array([[0., 0., 0., ..., 0., 0., 0.],\n",
       "         [0., 0., 0., ..., 0., 0., 0.],\n",
       "         [0., 0., 0., ..., 0., 0., 0.],\n",
       "         ...,\n",
       "         [0., 0., 0., ..., 0., 0., 0.],\n",
       "         [0., 0., 0., ..., 0., 0., 0.],\n",
       "         [0., 0., 0., ..., 0., 0., 0.]], dtype=float32),\n",
       "  'resolution': (0.25, 0.25),\n",
       "  'no_data': 0.0,\n",
       "  'FileName': 'Sa-PA_DSM.tif'}]"
      ]
     },
     "execution_count": 11,
     "metadata": {},
     "output_type": "execute_result"
    }
   ],
   "source": [
    "#Create a list of array dictionaries. Each dictionary represents the relevant raster information needed for Relief Visualization Toolbox visualization creations.\n",
    "demArrays = mfRVT.makeArrayDict(demList, DEMfolder, outPath)\n",
    "demArrays"
   ]
  },
  {
   "cell_type": "code",
   "execution_count": 12,
   "id": "703870ba",
   "metadata": {},
   "outputs": [
    {
     "name": "stdout",
     "output_type": "stream",
     "text": [
      "Getting array info for F-KG_DSM.tif...\n",
      "\n",
      "Visualizations in progress for F-KG_DSM.tif...\n",
      "Slope model complete.\n",
      "Hillshade model complete.\n"
     ]
    },
    {
     "name": "stderr",
     "output_type": "stream",
     "text": [
      "C:\\Users\\bmanq\\Box\\Research\\LidarProcessing\\RVT\\rvt\\vis.py:395: RuntimeWarning: divide by zero encountered in true_divide\n",
      "  mean_out = mean_out / kernel_nr_pix_arr\n",
      "C:\\Users\\bmanq\\Box\\Research\\LidarProcessing\\RVT\\rvt\\vis.py:395: RuntimeWarning: invalid value encountered in true_divide\n",
      "  mean_out = mean_out / kernel_nr_pix_arr\n"
     ]
    },
    {
     "name": "stdout",
     "output_type": "stream",
     "text": [
      "Simple Local Relief Model complete.\n",
      "Openness Index model complete.\n"
     ]
    },
    {
     "ename": "KeyboardInterrupt",
     "evalue": "",
     "output_type": "error",
     "traceback": [
      "\u001b[1;31m---------------------------------------------------------------------------\u001b[0m",
      "\u001b[1;31mKeyboardInterrupt\u001b[0m                         Traceback (most recent call last)",
      "\u001b[1;32m~\\AppData\\Local\\Temp\\ipykernel_51824\\2548892803.py\u001b[0m in \u001b[0;36m<cell line: 3>\u001b[1;34m()\u001b[0m\n\u001b[0;32m      1\u001b[0m \u001b[1;31m#Create and Export Visualizations using Relief Visualization Toolbox\u001b[0m\u001b[1;33m\u001b[0m\u001b[1;33m\u001b[0m\u001b[0m\n\u001b[0;32m      2\u001b[0m \u001b[1;31m#This custom function creates visualizations of each DEM that meet the needs of my archaeological research project. All viz parameters are standardized.\u001b[0m\u001b[1;33m\u001b[0m\u001b[1;33m\u001b[0m\u001b[0m\n\u001b[1;32m----> 3\u001b[1;33m \u001b[0mmfRVT\u001b[0m\u001b[1;33m.\u001b[0m\u001b[0mrvt_viz\u001b[0m\u001b[1;33m(\u001b[0m\u001b[0mdemArrays\u001b[0m\u001b[1;33m,\u001b[0m \u001b[0mDEMfolder\u001b[0m\u001b[1;33m,\u001b[0m \u001b[0moutPath\u001b[0m\u001b[1;33m)\u001b[0m\u001b[1;33m\u001b[0m\u001b[1;33m\u001b[0m\u001b[0m\n\u001b[0m",
      "\u001b[1;32m~\\Box\\Research\\LidarProcessing\\RVT\\ManquenFunctionsRVT.py\u001b[0m in \u001b[0;36mrvt_viz\u001b[1;34m(demArrays, DEMfolder, outPath)\u001b[0m\n\u001b[0;32m    431\u001b[0m         \u001b[0moi\u001b[0m\u001b[1;33m=\u001b[0m\u001b[0mopennessIndex\u001b[0m\u001b[1;33m(\u001b[0m\u001b[0mdemArray\u001b[0m\u001b[1;33m,\u001b[0m \u001b[0moutPath\u001b[0m\u001b[1;33m)\u001b[0m\u001b[1;33m\u001b[0m\u001b[1;33m\u001b[0m\u001b[0m\n\u001b[0;32m    432\u001b[0m         \u001b[0mprint\u001b[0m\u001b[1;33m(\u001b[0m\u001b[1;34m\"Openness Index model complete.\"\u001b[0m\u001b[1;33m)\u001b[0m\u001b[1;33m\u001b[0m\u001b[1;33m\u001b[0m\u001b[0m\n\u001b[1;32m--> 433\u001b[1;33m         \u001b[0mLocalDomArr\u001b[0m\u001b[1;33m=\u001b[0m\u001b[0mLocalDom\u001b[0m\u001b[1;33m(\u001b[0m\u001b[0mdemArray\u001b[0m\u001b[1;33m,\u001b[0m \u001b[0moutPath\u001b[0m\u001b[1;33m)\u001b[0m\u001b[1;33m\u001b[0m\u001b[1;33m\u001b[0m\u001b[0m\n\u001b[0m\u001b[0;32m    434\u001b[0m         \u001b[0mprint\u001b[0m\u001b[1;33m(\u001b[0m\u001b[1;34m\"Local Dominance model complete.\"\u001b[0m\u001b[1;33m)\u001b[0m\u001b[1;33m\u001b[0m\u001b[1;33m\u001b[0m\u001b[0m\n\u001b[0;32m    435\u001b[0m         \u001b[0mgradReliefBase\u001b[0m\u001b[1;33m(\u001b[0m\u001b[0mdemArray\u001b[0m\u001b[1;33m,\u001b[0m \u001b[0moutPath\u001b[0m\u001b[1;33m)\u001b[0m\u001b[1;33m\u001b[0m\u001b[1;33m\u001b[0m\u001b[0m\n",
      "\u001b[1;32m~\\Box\\Research\\LidarProcessing\\RVT\\ManquenFunctionsRVT.py\u001b[0m in \u001b[0;36mLocalDom\u001b[1;34m(demArray, outPath, min_rad, max_rad, rad_inc, angular_res, observer_height, ve_factor)\u001b[0m\n\u001b[0;32m    323\u001b[0m     \u001b[0mdem_res_y\u001b[0m \u001b[1;33m=\u001b[0m \u001b[0mdem_res\u001b[0m\u001b[1;33m[\u001b[0m\u001b[1;36m1\u001b[0m\u001b[1;33m]\u001b[0m\u001b[1;33m\u001b[0m\u001b[1;33m\u001b[0m\u001b[0m\n\u001b[0;32m    324\u001b[0m     \u001b[1;31m#Local Dominance\u001b[0m\u001b[1;33m\u001b[0m\u001b[1;33m\u001b[0m\u001b[0m\n\u001b[1;32m--> 325\u001b[1;33m     local_dom_arr = rvt.vis.local_dominance(dem=dem_arr, min_rad=min_rad, max_rad=max_rad, rad_inc=rad_inc, angular_res=angular_res,\n\u001b[0m\u001b[0;32m    326\u001b[0m                                             \u001b[0mobserver_height\u001b[0m\u001b[1;33m=\u001b[0m\u001b[0mobserver_height\u001b[0m\u001b[1;33m,\u001b[0m \u001b[0mve_factor\u001b[0m\u001b[1;33m=\u001b[0m\u001b[1;36m1\u001b[0m\u001b[1;33m,\u001b[0m\u001b[1;33m\u001b[0m\u001b[1;33m\u001b[0m\u001b[0m\n\u001b[0;32m    327\u001b[0m                                             no_data=dem_no_data)\n",
      "\u001b[1;32m~\\Box\\Research\\LidarProcessing\\RVT\\rvt\\vis.py\u001b[0m in \u001b[0;36mlocal_dominance\u001b[1;34m(dem, min_rad, max_rad, rad_inc, angular_res, observer_height, ve_factor, no_data)\u001b[0m\n\u001b[0;32m    816\u001b[0m         \u001b[0midx_lower\u001b[0m \u001b[1;33m=\u001b[0m \u001b[0mnp\u001b[0m\u001b[1;33m.\u001b[0m\u001b[0mwhere\u001b[0m\u001b[1;33m(\u001b[0m\u001b[1;33m(\u001b[0m\u001b[0mdem\u001b[0m \u001b[1;33m+\u001b[0m \u001b[0mobserver_height\u001b[0m\u001b[1;33m)\u001b[0m \u001b[1;33m>\u001b[0m \u001b[0mdem_moved\u001b[0m\u001b[1;33m)\u001b[0m\u001b[1;33m\u001b[0m\u001b[1;33m\u001b[0m\u001b[0m\n\u001b[0;32m    817\u001b[0m         \u001b[1;32mif\u001b[0m \u001b[0midx_lower\u001b[0m\u001b[1;33m[\u001b[0m\u001b[1;36m0\u001b[0m\u001b[1;33m]\u001b[0m\u001b[1;33m.\u001b[0m\u001b[0msize\u001b[0m \u001b[1;33m>\u001b[0m \u001b[1;36m0\u001b[0m\u001b[1;33m:\u001b[0m\u001b[1;33m\u001b[0m\u001b[1;33m\u001b[0m\u001b[0m\n\u001b[1;32m--> 818\u001b[1;33m             \u001b[0mlocal_dom_out\u001b[0m\u001b[1;33m[\u001b[0m\u001b[0midx_lower\u001b[0m\u001b[1;33m[\u001b[0m\u001b[1;36m0\u001b[0m\u001b[1;33m]\u001b[0m\u001b[1;33m,\u001b[0m \u001b[0midx_lower\u001b[0m\u001b[1;33m[\u001b[0m\u001b[1;36m1\u001b[0m\u001b[1;33m]\u001b[0m\u001b[1;33m]\u001b[0m \u001b[1;33m=\u001b[0m \u001b[0mlocal_dom_out\u001b[0m\u001b[1;33m[\u001b[0m\u001b[0midx_lower\u001b[0m\u001b[1;33m[\u001b[0m\u001b[1;36m0\u001b[0m\u001b[1;33m]\u001b[0m\u001b[1;33m,\u001b[0m \u001b[0midx_lower\u001b[0m\u001b[1;33m[\u001b[0m\u001b[1;36m1\u001b[0m\u001b[1;33m]\u001b[0m\u001b[1;33m]\u001b[0m \u001b[1;33m+\u001b[0m\u001b[0;31m \u001b[0m\u001b[0;31m\\\u001b[0m\u001b[1;33m\u001b[0m\u001b[1;33m\u001b[0m\u001b[0m\n\u001b[0m\u001b[0;32m    819\u001b[0m                                                         (dem[idx_lower[0], idx_lower[1]] + observer_height -\n\u001b[0;32m    820\u001b[0m                                                          dem_moved[idx_lower[0], idx_lower[1]]) / \\\n",
      "\u001b[1;31mKeyboardInterrupt\u001b[0m: "
     ]
    }
   ],
   "source": [
    "#Create and Export Visualizations using Relief Visualization Toolbox\n",
    "#This custom function creates visualizations of each DEM that meet the needs \n",
    "#of the SCIP 2023 and 2024 field seasons. All viz parameters are standardized.\n",
    "mfRVT.rvt_viz(demArrays, DEMfolder, outPath)"
   ]
  },
  {
   "cell_type": "code",
   "execution_count": null,
   "id": "f694fbfa",
   "metadata": {},
   "outputs": [
    {
     "name": "stdout",
     "output_type": "stream",
     "text": [
      "F-AI_DSM.tif multi-dimensional hillshade complete.\n",
      "C:\\Users\\bmanq\\Box\\Research\\LidarProcessing\\RVT\\Outputs\\F-AI_DSM_Archaeological_(VAT_combined)_opac50.tif already exists!\n",
      "C:\\Users\\bmanq\\Box\\Research\\LidarProcessing\\RVT\\Outputs\\F-KG_DSM_Archaeological_(VAT_combined)_opac50.tif already exists!\n",
      "C:\\Users\\bmanq\\Box\\Research\\LidarProcessing\\RVT\\Outputs\\F-TA_DSM_Archaeological_(VAT_combined)_opac50.tif already exists!\n",
      "C:\\Users\\bmanq\\Box\\Research\\LidarProcessing\\RVT\\Outputs\\Sa-AS_DSM_Archaeological_(VAT_combined)_opac50.tif already exists!\n",
      "C:\\Users\\bmanq\\Box\\Research\\LidarProcessing\\RVT\\Outputs\\Sa-CH_DSM_Archaeological_(VAT_combined)_opac50.tif already exists!\n",
      "C:\\Users\\bmanq\\Box\\Research\\LidarProcessing\\RVT\\Outputs\\Sa-FL_DSM_Archaeological_(VAT_combined)_opac50.tif already exists!\n",
      "C:\\Users\\bmanq\\Box\\Research\\LidarProcessing\\RVT\\Outputs\\Sa-FT_DSM_Archaeological_(VAT_combined)_opac50.tif already exists!\n",
      "C:\\Users\\bmanq\\Box\\Research\\LidarProcessing\\RVT\\Outputs\\Sa-MK_DSM_Archaeological_(VAT_combined)_opac50.tif already exists!\n",
      "C:\\Users\\bmanq\\Box\\Research\\LidarProcessing\\RVT\\Outputs\\Sa-PA_DSM_Archaeological_(VAT_combined)_opac50.tif already exists!\n",
      "F-AI_DSM.tif VAT complete.\n",
      "F-KG_DSM.tif multi-dimensional hillshade complete.\n",
      "C:\\Users\\bmanq\\Box\\Research\\LidarProcessing\\RVT\\Outputs\\F-AI_DSM_Archaeological_(VAT_combined)_opac50.tif already exists!\n",
      "C:\\Users\\bmanq\\Box\\Research\\LidarProcessing\\RVT\\Outputs\\F-KG_DSM_Archaeological_(VAT_combined)_opac50.tif already exists!\n",
      "C:\\Users\\bmanq\\Box\\Research\\LidarProcessing\\RVT\\Outputs\\F-TA_DSM_Archaeological_(VAT_combined)_opac50.tif already exists!\n",
      "C:\\Users\\bmanq\\Box\\Research\\LidarProcessing\\RVT\\Outputs\\Sa-AS_DSM_Archaeological_(VAT_combined)_opac50.tif already exists!\n",
      "C:\\Users\\bmanq\\Box\\Research\\LidarProcessing\\RVT\\Outputs\\Sa-CH_DSM_Archaeological_(VAT_combined)_opac50.tif already exists!\n",
      "C:\\Users\\bmanq\\Box\\Research\\LidarProcessing\\RVT\\Outputs\\Sa-FL_DSM_Archaeological_(VAT_combined)_opac50.tif already exists!\n",
      "C:\\Users\\bmanq\\Box\\Research\\LidarProcessing\\RVT\\Outputs\\Sa-FT_DSM_Archaeological_(VAT_combined)_opac50.tif already exists!\n",
      "C:\\Users\\bmanq\\Box\\Research\\LidarProcessing\\RVT\\Outputs\\Sa-MK_DSM_Archaeological_(VAT_combined)_opac50.tif already exists!\n",
      "C:\\Users\\bmanq\\Box\\Research\\LidarProcessing\\RVT\\Outputs\\Sa-PA_DSM_Archaeological_(VAT_combined)_opac50.tif already exists!\n",
      "F-KG_DSM.tif VAT complete.\n",
      "F-TA_DSM.tif multi-dimensional hillshade complete.\n",
      "C:\\Users\\bmanq\\Box\\Research\\LidarProcessing\\RVT\\Outputs\\F-AI_DSM_Archaeological_(VAT_combined)_opac50.tif already exists!\n",
      "C:\\Users\\bmanq\\Box\\Research\\LidarProcessing\\RVT\\Outputs\\F-KG_DSM_Archaeological_(VAT_combined)_opac50.tif already exists!\n",
      "C:\\Users\\bmanq\\Box\\Research\\LidarProcessing\\RVT\\Outputs\\F-TA_DSM_Archaeological_(VAT_combined)_opac50.tif already exists!\n",
      "C:\\Users\\bmanq\\Box\\Research\\LidarProcessing\\RVT\\Outputs\\Sa-AS_DSM_Archaeological_(VAT_combined)_opac50.tif already exists!\n",
      "C:\\Users\\bmanq\\Box\\Research\\LidarProcessing\\RVT\\Outputs\\Sa-CH_DSM_Archaeological_(VAT_combined)_opac50.tif already exists!\n",
      "C:\\Users\\bmanq\\Box\\Research\\LidarProcessing\\RVT\\Outputs\\Sa-FL_DSM_Archaeological_(VAT_combined)_opac50.tif already exists!\n",
      "C:\\Users\\bmanq\\Box\\Research\\LidarProcessing\\RVT\\Outputs\\Sa-FT_DSM_Archaeological_(VAT_combined)_opac50.tif already exists!\n",
      "C:\\Users\\bmanq\\Box\\Research\\LidarProcessing\\RVT\\Outputs\\Sa-MK_DSM_Archaeological_(VAT_combined)_opac50.tif already exists!\n",
      "C:\\Users\\bmanq\\Box\\Research\\LidarProcessing\\RVT\\Outputs\\Sa-PA_DSM_Archaeological_(VAT_combined)_opac50.tif already exists!\n",
      "F-TA_DSM.tif VAT complete.\n",
      "Sa-AS_DSM.tif multi-dimensional hillshade complete.\n",
      "C:\\Users\\bmanq\\Box\\Research\\LidarProcessing\\RVT\\Outputs\\F-AI_DSM_Archaeological_(VAT_combined)_opac50.tif already exists!\n",
      "C:\\Users\\bmanq\\Box\\Research\\LidarProcessing\\RVT\\Outputs\\F-KG_DSM_Archaeological_(VAT_combined)_opac50.tif already exists!\n",
      "C:\\Users\\bmanq\\Box\\Research\\LidarProcessing\\RVT\\Outputs\\F-TA_DSM_Archaeological_(VAT_combined)_opac50.tif already exists!\n",
      "C:\\Users\\bmanq\\Box\\Research\\LidarProcessing\\RVT\\Outputs\\Sa-AS_DSM_Archaeological_(VAT_combined)_opac50.tif already exists!\n",
      "C:\\Users\\bmanq\\Box\\Research\\LidarProcessing\\RVT\\Outputs\\Sa-CH_DSM_Archaeological_(VAT_combined)_opac50.tif already exists!\n",
      "C:\\Users\\bmanq\\Box\\Research\\LidarProcessing\\RVT\\Outputs\\Sa-FL_DSM_Archaeological_(VAT_combined)_opac50.tif already exists!\n",
      "C:\\Users\\bmanq\\Box\\Research\\LidarProcessing\\RVT\\Outputs\\Sa-FT_DSM_Archaeological_(VAT_combined)_opac50.tif already exists!\n",
      "C:\\Users\\bmanq\\Box\\Research\\LidarProcessing\\RVT\\Outputs\\Sa-MK_DSM_Archaeological_(VAT_combined)_opac50.tif already exists!\n",
      "C:\\Users\\bmanq\\Box\\Research\\LidarProcessing\\RVT\\Outputs\\Sa-PA_DSM_Archaeological_(VAT_combined)_opac50.tif already exists!\n",
      "Sa-AS_DSM.tif VAT complete.\n",
      "Sa-CH_DSM.tif multi-dimensional hillshade complete.\n",
      "C:\\Users\\bmanq\\Box\\Research\\LidarProcessing\\RVT\\Outputs\\F-AI_DSM_Archaeological_(VAT_combined)_opac50.tif already exists!\n",
      "C:\\Users\\bmanq\\Box\\Research\\LidarProcessing\\RVT\\Outputs\\F-KG_DSM_Archaeological_(VAT_combined)_opac50.tif already exists!\n",
      "C:\\Users\\bmanq\\Box\\Research\\LidarProcessing\\RVT\\Outputs\\F-TA_DSM_Archaeological_(VAT_combined)_opac50.tif already exists!\n",
      "C:\\Users\\bmanq\\Box\\Research\\LidarProcessing\\RVT\\Outputs\\Sa-AS_DSM_Archaeological_(VAT_combined)_opac50.tif already exists!\n",
      "C:\\Users\\bmanq\\Box\\Research\\LidarProcessing\\RVT\\Outputs\\Sa-CH_DSM_Archaeological_(VAT_combined)_opac50.tif already exists!\n",
      "C:\\Users\\bmanq\\Box\\Research\\LidarProcessing\\RVT\\Outputs\\Sa-FL_DSM_Archaeological_(VAT_combined)_opac50.tif already exists!\n",
      "C:\\Users\\bmanq\\Box\\Research\\LidarProcessing\\RVT\\Outputs\\Sa-FT_DSM_Archaeological_(VAT_combined)_opac50.tif already exists!\n",
      "C:\\Users\\bmanq\\Box\\Research\\LidarProcessing\\RVT\\Outputs\\Sa-MK_DSM_Archaeological_(VAT_combined)_opac50.tif already exists!\n",
      "C:\\Users\\bmanq\\Box\\Research\\LidarProcessing\\RVT\\Outputs\\Sa-PA_DSM_Archaeological_(VAT_combined)_opac50.tif already exists!\n",
      "Sa-CH_DSM.tif VAT complete.\n",
      "Sa-FL_DSM.tif multi-dimensional hillshade complete.\n",
      "C:\\Users\\bmanq\\Box\\Research\\LidarProcessing\\RVT\\Outputs\\F-AI_DSM_Archaeological_(VAT_combined)_opac50.tif already exists!\n",
      "C:\\Users\\bmanq\\Box\\Research\\LidarProcessing\\RVT\\Outputs\\F-KG_DSM_Archaeological_(VAT_combined)_opac50.tif already exists!\n",
      "C:\\Users\\bmanq\\Box\\Research\\LidarProcessing\\RVT\\Outputs\\F-TA_DSM_Archaeological_(VAT_combined)_opac50.tif already exists!\n",
      "C:\\Users\\bmanq\\Box\\Research\\LidarProcessing\\RVT\\Outputs\\Sa-AS_DSM_Archaeological_(VAT_combined)_opac50.tif already exists!\n",
      "C:\\Users\\bmanq\\Box\\Research\\LidarProcessing\\RVT\\Outputs\\Sa-CH_DSM_Archaeological_(VAT_combined)_opac50.tif already exists!\n",
      "C:\\Users\\bmanq\\Box\\Research\\LidarProcessing\\RVT\\Outputs\\Sa-FL_DSM_Archaeological_(VAT_combined)_opac50.tif already exists!\n",
      "C:\\Users\\bmanq\\Box\\Research\\LidarProcessing\\RVT\\Outputs\\Sa-FT_DSM_Archaeological_(VAT_combined)_opac50.tif already exists!\n",
      "C:\\Users\\bmanq\\Box\\Research\\LidarProcessing\\RVT\\Outputs\\Sa-MK_DSM_Archaeological_(VAT_combined)_opac50.tif already exists!\n",
      "C:\\Users\\bmanq\\Box\\Research\\LidarProcessing\\RVT\\Outputs\\Sa-PA_DSM_Archaeological_(VAT_combined)_opac50.tif already exists!\n",
      "Sa-FL_DSM.tif VAT complete.\n",
      "Sa-FT_DSM.tif multi-dimensional hillshade complete.\n",
      "C:\\Users\\bmanq\\Box\\Research\\LidarProcessing\\RVT\\Outputs\\F-AI_DSM_Archaeological_(VAT_combined)_opac50.tif already exists!\n",
      "C:\\Users\\bmanq\\Box\\Research\\LidarProcessing\\RVT\\Outputs\\F-KG_DSM_Archaeological_(VAT_combined)_opac50.tif already exists!\n",
      "C:\\Users\\bmanq\\Box\\Research\\LidarProcessing\\RVT\\Outputs\\F-TA_DSM_Archaeological_(VAT_combined)_opac50.tif already exists!\n",
      "C:\\Users\\bmanq\\Box\\Research\\LidarProcessing\\RVT\\Outputs\\Sa-AS_DSM_Archaeological_(VAT_combined)_opac50.tif already exists!\n",
      "C:\\Users\\bmanq\\Box\\Research\\LidarProcessing\\RVT\\Outputs\\Sa-CH_DSM_Archaeological_(VAT_combined)_opac50.tif already exists!\n",
      "C:\\Users\\bmanq\\Box\\Research\\LidarProcessing\\RVT\\Outputs\\Sa-FL_DSM_Archaeological_(VAT_combined)_opac50.tif already exists!\n",
      "C:\\Users\\bmanq\\Box\\Research\\LidarProcessing\\RVT\\Outputs\\Sa-FT_DSM_Archaeological_(VAT_combined)_opac50.tif already exists!\n",
      "C:\\Users\\bmanq\\Box\\Research\\LidarProcessing\\RVT\\Outputs\\Sa-MK_DSM_Archaeological_(VAT_combined)_opac50.tif already exists!\n",
      "C:\\Users\\bmanq\\Box\\Research\\LidarProcessing\\RVT\\Outputs\\Sa-PA_DSM_Archaeological_(VAT_combined)_opac50.tif already exists!\n",
      "Sa-FT_DSM.tif VAT complete.\n"
     ]
    },
    {
     "name": "stdout",
     "output_type": "stream",
     "text": [
      "Sa-MK_DSM.tif multi-dimensional hillshade complete.\n",
      "C:\\Users\\bmanq\\Box\\Research\\LidarProcessing\\RVT\\Outputs\\F-AI_DSM_Archaeological_(VAT_combined)_opac50.tif already exists!\n",
      "C:\\Users\\bmanq\\Box\\Research\\LidarProcessing\\RVT\\Outputs\\F-KG_DSM_Archaeological_(VAT_combined)_opac50.tif already exists!\n",
      "C:\\Users\\bmanq\\Box\\Research\\LidarProcessing\\RVT\\Outputs\\F-TA_DSM_Archaeological_(VAT_combined)_opac50.tif already exists!\n",
      "C:\\Users\\bmanq\\Box\\Research\\LidarProcessing\\RVT\\Outputs\\Sa-AS_DSM_Archaeological_(VAT_combined)_opac50.tif already exists!\n",
      "C:\\Users\\bmanq\\Box\\Research\\LidarProcessing\\RVT\\Outputs\\Sa-CH_DSM_Archaeological_(VAT_combined)_opac50.tif already exists!\n",
      "C:\\Users\\bmanq\\Box\\Research\\LidarProcessing\\RVT\\Outputs\\Sa-FL_DSM_Archaeological_(VAT_combined)_opac50.tif already exists!\n",
      "C:\\Users\\bmanq\\Box\\Research\\LidarProcessing\\RVT\\Outputs\\Sa-FT_DSM_Archaeological_(VAT_combined)_opac50.tif already exists!\n",
      "C:\\Users\\bmanq\\Box\\Research\\LidarProcessing\\RVT\\Outputs\\Sa-MK_DSM_Archaeological_(VAT_combined)_opac50.tif already exists!\n",
      "C:\\Users\\bmanq\\Box\\Research\\LidarProcessing\\RVT\\Outputs\\Sa-PA_DSM_Archaeological_(VAT_combined)_opac50.tif already exists!\n",
      "Sa-MK_DSM.tif VAT complete.\n"
     ]
    }
   ],
   "source": [
    "#Create multi-directional hillshades\n",
    "#this was removed from the main viz function due to high processessing times, causing function breaks\n",
    "for demArray in demArrays:\n",
    "    origCWD = os.getcwd()\n",
    "    os.chdir(DEMfolder) #changes the working directory to DEMfolder\n",
    "    mfRVT.mdHS(demArray, outPath)\n",
    "    print(f\"{demArray['FileName']} multi-dimensional hillshade complete.\")\n",
    "    os.chdir(origCWD)\n",
    "    mfRVT.combinedVAT(DEMfolder, outPath)\n",
    "    print(f\"{demArray['FileName']} VAT complete.\")"
   ]
  }
 ],
 "metadata": {
  "kernelspec": {
   "display_name": "Python 3 (ipykernel)",
   "language": "python",
   "name": "python3"
  },
  "language_info": {
   "codemirror_mode": {
    "name": "ipython",
    "version": 3
   },
   "file_extension": ".py",
   "mimetype": "text/x-python",
   "name": "python",
   "nbconvert_exporter": "python",
   "pygments_lexer": "ipython3",
   "version": "3.11.8"
  }
 },
 "nbformat": 4,
 "nbformat_minor": 5
}
